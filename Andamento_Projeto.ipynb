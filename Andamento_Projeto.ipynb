{
  "cells": [
    {
      "metadata": {
        "collapsed": true
      },
      "cell_type": "markdown",
      "source": "<h1>Fase 1</h1>"
    },
    {
      "metadata": {},
      "cell_type": "markdown",
      "source": "<p>O histórico médico dos indivíduos é fragmentado, não havendo compartilhamento de informações entre os diversos órgãos de saúde, sejam públicos, sejam privados.\nA criação de tal linha do tempo possibilitaria melhores ações preventivas na saúde</p>"
    },
    {
      "metadata": {},
      "cell_type": "markdown",
      "source": "<!--Nosso software tem a ambição de coletar dados de saúde da população através de suas consultas médicas e criar um algoritmo capaz de prever doenças futuras com base em padrões encontrados com Data Mining e Learning Machine-->"
    },
    {
      "metadata": {
        "trusted": true
      },
      "cell_type": "code",
      "source": "",
      "execution_count": null,
      "outputs": []
    }
  ],
  "metadata": {
    "kernelspec": {
      "name": "python36",
      "display_name": "Python 3.6",
      "language": "python"
    },
    "language_info": {
      "mimetype": "text/x-python",
      "nbconvert_exporter": "python",
      "name": "python",
      "pygments_lexer": "ipython3",
      "version": "3.6.6",
      "file_extension": ".py",
      "codemirror_mode": {
        "version": 3,
        "name": "ipython"
      }
    }
  },
  "nbformat": 4,
  "nbformat_minor": 2
}